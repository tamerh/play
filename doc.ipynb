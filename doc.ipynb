{
 "cells": [
  {
   "cell_type": "markdown",
   "metadata": {},
   "source": [
    "## biobtreePy\n",
    "The [biobtreePy](https://github.com/tamerh/biobtreePy) package provides a Python interface to [biobtree](https://github.com/tamerh/biobtree) tool which provides search and chain mappings functionalities for identifiers, accessions and special keywords for genomic research pipelines."
   ]
  },
  {
   "cell_type": "markdown",
   "metadata": {},
   "source": [
    "## Installation"
   ]
  },
  {
   "cell_type": "code",
   "execution_count": null,
   "metadata": {},
   "outputs": [],
   "source": [
    "pip install bbpy"
   ]
  },
  {
   "cell_type": "markdown",
   "metadata": {},
   "source": [
    "## Quick introduction"
   ]
  },
  {
   "cell_type": "code",
   "execution_count": 7,
   "metadata": {},
   "outputs": [],
   "source": [
    "import bbpy as b\n",
    "import os\n",
    "\n",
    "# first create or used existing folder for the tool files\n",
    "os.mkdir('outFolder')\n",
    "\n",
    "# create the package class instance with new or existing folder which data built before.\n",
    "bb=b.bbpy('outFolder')\n",
    "\n",
    "# build data locally. Sample data contains only few records.\n",
    "bb.buildData(datasets='sample_data')\n",
    "\n",
    "#start local server which allows performing queries and provide web interface\n",
    "bb.start()\n",
    "\n",
    "############ perform search and mapping queries\n",
    "\n",
    "'''\n",
    "Searching identfiers and keywords such as gene name or accessions by passing comma seperated terms.\n",
    "'''\n",
    "bb.search('tpi1,vav_human,ENST00000297261')\n",
    "\n",
    "#search only within dataset\n",
    "bb.search(\"tpi1,ENSG00000164690\",\"ensembl\")\n",
    "\n",
    "'''\n",
    "Mappings  queries are in following format which allow chains mapping among datasets\n",
    "\n",
    "map(dataset_id).filter(Boolean expression).map(...).filter(...) \n",
    "'''\n",
    "# map proteins to go terms\n",
    "bb.mapping('at5g3_human,vav_human','map(go)',attrs = \"type\")\n",
    "\n",
    "# map proteins to go terms types with filter\n",
    "bb.mapping('at5g3_human,vav_human','map(go).filter(go.type==\"biological_process\")',attrs = \"type\")\n",
    "\n",
    "# stop local server. server can be start again with existing built data\n",
    "bb.stop()\n"
   ]
  },
  {
   "cell_type": "markdown",
   "metadata": {},
   "source": [
    "## Build data\n",
    "Building data process selected datasets and retrieve indivudual records belonging to these datasets with their attributes and mapping data to the other datasets. Before building data first let's list the datasets and genomes, "
   ]
  },
  {
   "cell_type": "markdown",
   "metadata": {},
   "source": [
    "### List datasets and genomes"
   ]
  },
  {
   "cell_type": "code",
   "execution_count": null,
   "metadata": {},
   "outputs": [],
   "source": [
    "# view source and target datasets\n",
    "bb.datasetsView"
   ]
  },
  {
   "cell_type": "code",
   "execution_count": null,
   "metadata": {},
   "outputs": [],
   "source": [
    "bb.listGenomes(\"ensembl\")"
   ]
  },
  {
   "cell_type": "code",
   "execution_count": null,
   "metadata": {},
   "outputs": [],
   "source": [
    "bb.listGenomes(\"ensembl_bacteria\")"
   ]
  },
  {
   "cell_type": "code",
   "execution_count": null,
   "metadata": {},
   "outputs": [],
   "source": [
    "bb.listGenomes(\"ensembl_fungi\")"
   ]
  },
  {
   "cell_type": "code",
   "execution_count": null,
   "metadata": {},
   "outputs": [],
   "source": [
    "bb.listGenomes(\"ensembl_metazoa\")"
   ]
  },
  {
   "cell_type": "code",
   "execution_count": null,
   "metadata": {},
   "outputs": [],
   "source": [
    "bb.listGenomes(\"ensembl_plants\")"
   ]
  },
  {
   "cell_type": "code",
   "execution_count": null,
   "metadata": {},
   "outputs": [],
   "source": [
    "bb.listGenomes(\"ensembl_protists\")"
   ]
  },
  {
   "cell_type": "markdown",
   "metadata": {},
   "source": [
    "### Build data examples "
   ]
  },
  {
   "cell_type": "code",
   "execution_count": null,
   "metadata": {},
   "outputs": [],
   "source": [
    "#specific datasets\n",
    "bb.buildData(datasets = \"hgnc,go,taxonomy\")\n",
    "\n",
    "# build default datasets ensembl(homo_sapiens) uniprot(reviewed) hgnc taxonomy go eco efo interpro chebi\n",
    "bb.buildData() \n",
    "\n",
    "#only specific datasets with specific mappings to speed up the build process\n",
    "bb.buildData(datasets = \"hgnc,uniprot,go,taxonomy\",targetDatasets = \"hgnc,uniprot,taxonomy,ufeature,go,pdb,taxchild,taxparent\") \n",
    "\n",
    "# build both mouse and human genomes in ensembl insted of default human\n",
    "bb.buildData(genome=\"homo_sapiens,mus_musculus\")\n",
    "\n",
    "# build genomes from ensembl genomes fungi + means in addition to default dataset\n",
    "bb.buildData(datasets=\"+ensembl_fungi\",genome=\"saccharomyces_cerevisiae\")\n",
    "\n",
    "# multiple species genomes from ensembl genomes plants and protists\n",
    "bb.buildData(datasets=\"+ensembl_plants,ensembl_protists\",genome=\"arabidopsis_thaliana,phytophthora_parasitica\")\n",
    "\n",
    "# multiple bacteria genomes with pattern which means any genomes contains given names seperated by comma\n",
    "bb.buildData(datasets=\"+ensembl_bacteria\",genomePattern=\"serovar_infantis,serovar_virchow\")"
   ]
  },
  {
   "cell_type": "markdown",
   "metadata": {},
   "source": [
    "## Run local server\n",
    "Running local server allows performing queries and provide web interface for data explorations. Server can start and stop with existing built data."
   ]
  },
  {
   "cell_type": "code",
   "execution_count": 6,
   "metadata": {},
   "outputs": [
    {
     "name": "stdout",
     "output_type": "stream",
     "text": [
      "biobtreePy is starting\n"
     ]
    },
    {
     "data": {
      "text/plain": [
       "'biobtreePy started'"
      ]
     },
     "execution_count": 6,
     "metadata": {},
     "output_type": "execute_result"
    }
   ],
   "source": [
    "import bbpy as b\n",
    "\n",
    "# build data with default dataset and start server\n",
    "bb=b.bbpy('bb')\n",
    "bb.stop()\n",
    "bb.start()"
   ]
  },
  {
   "cell_type": "markdown",
   "metadata": {},
   "source": [
    "## Example use cases"
   ]
  },
  {
   "cell_type": "code",
   "execution_count": null,
   "metadata": {},
   "outputs": [],
   "source": [
    "import bbpy as b\n",
    "\n",
    "# build data with default dataset and start server\n",
    "bb=b.bbpy('outFolder')\n",
    "#lbb.buildData()\n",
    "bb.start()"
   ]
  },
  {
   "cell_type": "markdown",
   "metadata": {},
   "source": [
    "### Gene centric use cases\n",
    "Ensembl, Ensembl Genomes and HGNC datasets are used for gene related data. One of the most common gene related dataset identfiers are `ensembl`,`hgnc`,`transcript`,`exon`. Let's start with listing their attiributes,"
   ]
  },
  {
   "cell_type": "code",
   "execution_count": 5,
   "metadata": {},
   "outputs": [
    {
     "data": {
      "text/plain": [
       "['name',\n",
       " 'description',\n",
       " 'start',\n",
       " 'end',\n",
       " 'biotype',\n",
       " 'genome',\n",
       " 'strand',\n",
       " 'seq_region_name',\n",
       " 'branch']"
      ]
     },
     "execution_count": 5,
     "metadata": {},
     "output_type": "execute_result"
    }
   ],
   "source": [
    "bb.listAttrs('ensembl')"
   ]
  },
  {
   "cell_type": "code",
   "execution_count": 6,
   "metadata": {},
   "outputs": [
    {
     "data": {
      "text/plain": [
       "['[]names',\n",
       " '[]symbols',\n",
       " 'locus_group',\n",
       " '[]aliases',\n",
       " 'locus_type',\n",
       " '[]prev_names',\n",
       " '[]prev_symbols',\n",
       " 'status',\n",
       " '[]gene_groups']"
      ]
     },
     "execution_count": 6,
     "metadata": {},
     "output_type": "execute_result"
    }
   ],
   "source": [
    "bb.listAttrs('hgnc')"
   ]
  },
  {
   "cell_type": "code",
   "execution_count": 7,
   "metadata": {},
   "outputs": [
    {
     "data": {
      "text/plain": [
       "['name', 'start', 'end', 'biotype', 'strand', 'seq_region_name', 'branch']"
      ]
     },
     "execution_count": 7,
     "metadata": {},
     "output_type": "execute_result"
    }
   ],
   "source": [
    "bb.listAttrs('transcript')"
   ]
  },
  {
   "cell_type": "code",
   "execution_count": 8,
   "metadata": {},
   "outputs": [
    {
     "data": {
      "text/plain": [
       "['start', 'end', 'strand', 'seq_region_name']"
      ]
     },
     "execution_count": 8,
     "metadata": {},
     "output_type": "execute_result"
    }
   ],
   "source": [
    "bb.listAttrs('exon')"
   ]
  },
  {
   "cell_type": "markdown",
   "metadata": {},
   "source": [
    "Note that as shown with `bb.datasetsView` there are several other gene related datasets without attributes and can be used in mapping queries such as probesets, genebank and entrez etc."
   ]
  },
  {
   "cell_type": "code",
   "execution_count": 18,
   "metadata": {},
   "outputs": [
    {
     "data": {
      "text/plain": [
       "{'in_identifier': ['ATP5MC3-ENSG00000154518',\n",
       "  'ATP5MC3-ENSG00000154518',\n",
       "  'ATP5MC3-ENSG00000154518',\n",
       "  'ATP5MC3-ENSG00000154518',\n",
       "  'ATP5MC3-ENSG00000154518',\n",
       "  'TP53-ENSG00000141510',\n",
       "  'TP53-ENSG00000141510',\n",
       "  'TP53-ENSG00000141510',\n",
       "  'TP53-ENSG00000141510',\n",
       "  'TP53-ENSG00000141510',\n",
       "  'TP53-ENSG00000141510',\n",
       "  'TP53-ENSG00000141510',\n",
       "  'TP53-ENSG00000141510',\n",
       "  'TP53-ENSG00000141510',\n",
       "  'TP53-ENSG00000141510',\n",
       "  'TP53-ENSG00000141510',\n",
       "  'TP53-ENSG00000141510',\n",
       "  'TP53-ENSG00000141510',\n",
       "  'TP53-ENSG00000141510',\n",
       "  'TP53-ENSG00000141510',\n",
       "  'TP53-ENSG00000141510',\n",
       "  'TP53-ENSG00000141510',\n",
       "  'TP53-ENSG00000141510',\n",
       "  'TP53-ENSG00000141510',\n",
       "  'TP53-ENSG00000141510',\n",
       "  'TP53-ENSG00000141510',\n",
       "  'TP53-ENSG00000141510',\n",
       "  'TP53-ENSG00000141510',\n",
       "  'TP53-ENSG00000141510',\n",
       "  'TP53-ENSG00000141510',\n",
       "  'TP53-ENSG00000141510',\n",
       "  'TP53-ENSG00000141510',\n",
       "  'TP53-ENSG00000141510',\n",
       "  'TP53-ENSG00000141510',\n",
       "  'TP53-LRG_321',\n",
       "  'TP53-LRG_321',\n",
       "  'TP53-LRG_321',\n",
       "  'TP53-LRG_321',\n",
       "  'TP53-LRG_321',\n",
       "  'TP53-LRG_321',\n",
       "  'TP53-LRG_321',\n",
       "  'TP53-LRG_321',\n",
       "  'TP53-LRG_321',\n",
       "  'TP53-LRG_321',\n",
       "  'TP53-LRG_321',\n",
       "  'TP53-LRG_321',\n",
       "  'TP53-LRG_321',\n",
       "  'TP53-LRG_321',\n",
       "  'TP53-LRG_321'],\n",
       " 'in_source': ['ensembl',\n",
       "  'ensembl',\n",
       "  'ensembl',\n",
       "  'ensembl',\n",
       "  'ensembl',\n",
       "  'ensembl',\n",
       "  'ensembl',\n",
       "  'ensembl',\n",
       "  'ensembl',\n",
       "  'ensembl',\n",
       "  'ensembl',\n",
       "  'ensembl',\n",
       "  'ensembl',\n",
       "  'ensembl',\n",
       "  'ensembl',\n",
       "  'ensembl',\n",
       "  'ensembl',\n",
       "  'ensembl',\n",
       "  'ensembl',\n",
       "  'ensembl',\n",
       "  'ensembl',\n",
       "  'ensembl',\n",
       "  'ensembl',\n",
       "  'ensembl',\n",
       "  'ensembl',\n",
       "  'ensembl',\n",
       "  'ensembl',\n",
       "  'ensembl',\n",
       "  'ensembl',\n",
       "  'ensembl',\n",
       "  'ensembl',\n",
       "  'ensembl',\n",
       "  'ensembl',\n",
       "  'ensembl',\n",
       "  'ensembl',\n",
       "  'ensembl',\n",
       "  'ensembl',\n",
       "  'ensembl',\n",
       "  'ensembl',\n",
       "  'ensembl',\n",
       "  'ensembl',\n",
       "  'ensembl',\n",
       "  'ensembl',\n",
       "  'ensembl',\n",
       "  'ensembl',\n",
       "  'ensembl',\n",
       "  'ensembl',\n",
       "  'ensembl',\n",
       "  'ensembl'],\n",
       " 'mapping_id': ['ENST00000284727',\n",
       "  'ENST00000392541',\n",
       "  'ENST00000409194',\n",
       "  'ENST00000472782',\n",
       "  'ENST00000497075',\n",
       "  'ENST00000269305',\n",
       "  'ENST00000359597',\n",
       "  'ENST00000413465',\n",
       "  'ENST00000420246',\n",
       "  'ENST00000445888',\n",
       "  'ENST00000455263',\n",
       "  'ENST00000503591',\n",
       "  'ENST00000504290',\n",
       "  'ENST00000504937',\n",
       "  'ENST00000505014',\n",
       "  'ENST00000508793',\n",
       "  'ENST00000509690',\n",
       "  'ENST00000510385',\n",
       "  'ENST00000514944',\n",
       "  'ENST00000571370',\n",
       "  'ENST00000574684',\n",
       "  'ENST00000576024',\n",
       "  'ENST00000604348',\n",
       "  'ENST00000610292',\n",
       "  'ENST00000610538',\n",
       "  'ENST00000610623',\n",
       "  'ENST00000615910',\n",
       "  'ENST00000617185',\n",
       "  'ENST00000618944',\n",
       "  'ENST00000619186',\n",
       "  'ENST00000619485',\n",
       "  'ENST00000620739',\n",
       "  'ENST00000622645',\n",
       "  'ENST00000635293',\n",
       "  'LRG_321T1-1',\n",
       "  'LRG_321T1-2',\n",
       "  'LRG_321T2-1',\n",
       "  'LRG_321T2-2',\n",
       "  'LRG_321T3-1',\n",
       "  'LRG_321T3-2',\n",
       "  'LRG_321T4-1',\n",
       "  'LRG_321T4-2',\n",
       "  'LRG_321T5-1',\n",
       "  'LRG_321T5-2',\n",
       "  'LRG_321T6-1',\n",
       "  'LRG_321T6-2',\n",
       "  'LRG_321T7-1',\n",
       "  'LRG_321T7-2',\n",
       "  'LRG_321T8']}"
      ]
     },
     "execution_count": 18,
     "metadata": {},
     "output_type": "execute_result"
    }
   ],
   "source": [
    "# Map gene names to Ensembl transcript identifier\n",
    "bb.mapping('ATP5MC3,TP53','map(transcript)')"
   ]
  },
  {
   "cell_type": "code",
   "execution_count": 4,
   "metadata": {},
   "outputs": [
    {
     "data": {
      "text/plain": [
       "{'in_identifier': ['ATP5MC3-ENSG00000154518',\n",
       "  'ATP5MC3-ENSG00000154518',\n",
       "  'ATP5MC3-ENSG00000154518',\n",
       "  'ATP5MC3-ENSG00000154518',\n",
       "  'ATP5MC3-ENSG00000154518',\n",
       "  'ATP5MC3-ENSG00000154518',\n",
       "  'ATP5MC3-ENSG00000154518',\n",
       "  'ATP5MC3-ENSG00000154518',\n",
       "  'ATP5MC3-ENSG00000154518',\n",
       "  'ATP5MC3-ENSG00000154518',\n",
       "  'ATP5MC3-ENSG00000154518',\n",
       "  'ATP5MC3-ENSG00000154518',\n",
       "  'ATP5MC3-ENSG00000154518',\n",
       "  'ATP5MC3-ENSG00000154518',\n",
       "  'ATP5MC3-ENSG00000154518',\n",
       "  'TP53-ENSG00000141510',\n",
       "  'TP53-ENSG00000141510',\n",
       "  'TP53-ENSG00000141510',\n",
       "  'TP53-ENSG00000141510',\n",
       "  'TP53-ENSG00000141510',\n",
       "  'TP53-ENSG00000141510',\n",
       "  'TP53-ENSG00000141510',\n",
       "  'TP53-ENSG00000141510',\n",
       "  'TP53-ENSG00000141510',\n",
       "  'TP53-ENSG00000141510',\n",
       "  'TP53-ENSG00000141510',\n",
       "  'TP53-ENSG00000141510',\n",
       "  'TP53-ENSG00000141510',\n",
       "  'TP53-ENSG00000141510',\n",
       "  'TP53-ENSG00000141510',\n",
       "  'TP53-ENSG00000141510',\n",
       "  'TP53-ENSG00000141510',\n",
       "  'TP53-ENSG00000141510',\n",
       "  'TP53-ENSG00000141510',\n",
       "  'TP53-ENSG00000141510',\n",
       "  'TP53-ENSG00000141510',\n",
       "  'TP53-ENSG00000141510',\n",
       "  'TP53-ENSG00000141510',\n",
       "  'TP53-ENSG00000141510',\n",
       "  'TP53-ENSG00000141510',\n",
       "  'TP53-ENSG00000141510',\n",
       "  'TP53-ENSG00000141510',\n",
       "  'TP53-ENSG00000141510',\n",
       "  'TP53-ENSG00000141510',\n",
       "  'TP53-ENSG00000141510',\n",
       "  'TP53-ENSG00000141510',\n",
       "  'TP53-ENSG00000141510',\n",
       "  'TP53-ENSG00000141510',\n",
       "  'TP53-ENSG00000141510',\n",
       "  'TP53-ENSG00000141510',\n",
       "  'TP53-ENSG00000141510',\n",
       "  'TP53-ENSG00000141510',\n",
       "  'TP53-ENSG00000141510',\n",
       "  'TP53-ENSG00000141510',\n",
       "  'TP53-ENSG00000141510',\n",
       "  'TP53-ENSG00000141510',\n",
       "  'TP53-ENSG00000141510',\n",
       "  'TP53-ENSG00000141510',\n",
       "  'TP53-ENSG00000141510',\n",
       "  'TP53-ENSG00000141510',\n",
       "  'TP53-ENSG00000141510',\n",
       "  'TP53-ENSG00000141510',\n",
       "  'TP53-ENSG00000141510',\n",
       "  'TP53-ENSG00000141510',\n",
       "  'TP53-ENSG00000141510',\n",
       "  'TP53-ENSG00000141510',\n",
       "  'TP53-ENSG00000141510',\n",
       "  'TP53-ENSG00000141510',\n",
       "  'TP53-LRG_321',\n",
       "  'TP53-LRG_321',\n",
       "  'TP53-LRG_321',\n",
       "  'TP53-LRG_321',\n",
       "  'TP53-LRG_321',\n",
       "  'TP53-LRG_321',\n",
       "  'TP53-LRG_321',\n",
       "  'TP53-LRG_321',\n",
       "  'TP53-LRG_321',\n",
       "  'TP53-LRG_321',\n",
       "  'TP53-LRG_321',\n",
       "  'TP53-LRG_321',\n",
       "  'TP53-LRG_321',\n",
       "  'TP53-LRG_321',\n",
       "  'TP53-LRG_321',\n",
       "  'TP53-LRG_321',\n",
       "  'TP53-LRG_321',\n",
       "  'TP53-LRG_321',\n",
       "  'TP53-LRG_321'],\n",
       " 'in_source': ['ensembl',\n",
       "  'ensembl',\n",
       "  'ensembl',\n",
       "  'ensembl',\n",
       "  'ensembl',\n",
       "  'ensembl',\n",
       "  'ensembl',\n",
       "  'ensembl',\n",
       "  'ensembl',\n",
       "  'ensembl',\n",
       "  'ensembl',\n",
       "  'ensembl',\n",
       "  'ensembl',\n",
       "  'ensembl',\n",
       "  'ensembl',\n",
       "  'ensembl',\n",
       "  'ensembl',\n",
       "  'ensembl',\n",
       "  'ensembl',\n",
       "  'ensembl',\n",
       "  'ensembl',\n",
       "  'ensembl',\n",
       "  'ensembl',\n",
       "  'ensembl',\n",
       "  'ensembl',\n",
       "  'ensembl',\n",
       "  'ensembl',\n",
       "  'ensembl',\n",
       "  'ensembl',\n",
       "  'ensembl',\n",
       "  'ensembl',\n",
       "  'ensembl',\n",
       "  'ensembl',\n",
       "  'ensembl',\n",
       "  'ensembl',\n",
       "  'ensembl',\n",
       "  'ensembl',\n",
       "  'ensembl',\n",
       "  'ensembl',\n",
       "  'ensembl',\n",
       "  'ensembl',\n",
       "  'ensembl',\n",
       "  'ensembl',\n",
       "  'ensembl',\n",
       "  'ensembl',\n",
       "  'ensembl',\n",
       "  'ensembl',\n",
       "  'ensembl',\n",
       "  'ensembl',\n",
       "  'ensembl',\n",
       "  'ensembl',\n",
       "  'ensembl',\n",
       "  'ensembl',\n",
       "  'ensembl',\n",
       "  'ensembl',\n",
       "  'ensembl',\n",
       "  'ensembl',\n",
       "  'ensembl',\n",
       "  'ensembl',\n",
       "  'ensembl',\n",
       "  'ensembl',\n",
       "  'ensembl',\n",
       "  'ensembl',\n",
       "  'ensembl',\n",
       "  'ensembl',\n",
       "  'ensembl',\n",
       "  'ensembl',\n",
       "  'ensembl',\n",
       "  'ensembl',\n",
       "  'ensembl',\n",
       "  'ensembl',\n",
       "  'ensembl',\n",
       "  'ensembl',\n",
       "  'ensembl',\n",
       "  'ensembl',\n",
       "  'ensembl',\n",
       "  'ensembl',\n",
       "  'ensembl',\n",
       "  'ensembl',\n",
       "  'ensembl',\n",
       "  'ensembl',\n",
       "  'ensembl',\n",
       "  'ensembl',\n",
       "  'ensembl',\n",
       "  'ensembl',\n",
       "  'ensembl',\n",
       "  'ensembl'],\n",
       " 'mapping_id': ['ENSE00001016410',\n",
       "  'ENSE00001016412',\n",
       "  'ENSE00001938775',\n",
       "  'ENSE00003574305',\n",
       "  'ENSE00003602002',\n",
       "  'ENSE00001512331',\n",
       "  'ENSE00001941833',\n",
       "  'ENSE00001586191',\n",
       "  'ENSE00001588911',\n",
       "  'ENSE00001589500',\n",
       "  'ENSE00001385096',\n",
       "  'ENSE00001835323',\n",
       "  'ENSE00003536191',\n",
       "  'ENSE00001892256',\n",
       "  'ENSE00003643731',\n",
       "  'ENSE00001146308',\n",
       "  'ENSE00002419584',\n",
       "  'ENSE00002667911',\n",
       "  'ENSE00003518480',\n",
       "  'ENSE00003545950',\n",
       "  'ENSE00003605891',\n",
       "  'ENSE00003625790',\n",
       "  'ENSE00003712342',\n",
       "  'ENSE00003723991',\n",
       "  'ENSE00003725258',\n",
       "  'ENSE00003786593',\n",
       "  'ENSE00002204316',\n",
       "  'ENSE00002337729',\n",
       "  'ENSE00001657961',\n",
       "  'ENSE00002034209',\n",
       "  'ENSE00002051192',\n",
       "  'ENSE00003634848',\n",
       "  'ENSE00003735852',\n",
       "  'ENSE00001596491',\n",
       "  'ENSE00002030826',\n",
       "  'ENSE00002037735',\n",
       "  'ENSE00003750554',\n",
       "  'ENSE00002051873',\n",
       "  'ENSE00002065802',\n",
       "  'ENSE00002362269',\n",
       "  'ENSE00002064269',\n",
       "  'ENSE00003492844',\n",
       "  'ENSE00002076714',\n",
       "  'ENSE00002084733',\n",
       "  'ENSE00003520683',\n",
       "  'ENSE00003532881',\n",
       "  'ENSE00002062958',\n",
       "  'ENSE00002073243',\n",
       "  'ENSE00003656695',\n",
       "  'ENSE00002048269',\n",
       "  'ENSE00002642820',\n",
       "  'ENSE00002670535',\n",
       "  'ENSE00002677565',\n",
       "  'ENSE00002226620',\n",
       "  'ENSE00002672443',\n",
       "  'ENSE00003670707',\n",
       "  'ENSE00003726882',\n",
       "  'ENSE00003739898',\n",
       "  'ENSE00003752869',\n",
       "  'ENSE00003715195',\n",
       "  'ENSE00003745267',\n",
       "  'ENSE00003746220',\n",
       "  'ENSE00003750794',\n",
       "  'ENSE00003753508',\n",
       "  'ENSE00003736616',\n",
       "  'ENSE00003788112',\n",
       "  'ENSE00003789378',\n",
       "  'ENSE00003791425',\n",
       "  'LRG_321T1E1',\n",
       "  'LRG_321T1E10',\n",
       "  'LRG_321T1E11',\n",
       "  'LRG_321T1E2A',\n",
       "  'LRG_321T1E2D',\n",
       "  'LRG_321T1E3',\n",
       "  'LRG_321T1E4B',\n",
       "  'LRG_321T1E5',\n",
       "  'LRG_321T1E6',\n",
       "  'LRG_321T1E7',\n",
       "  'LRG_321T1E8',\n",
       "  'LRG_321T2E2C',\n",
       "  'LRG_321T3E10',\n",
       "  'LRG_321T3E11',\n",
       "  'LRG_321T3E9A',\n",
       "  'LRG_321T4E9B',\n",
       "  'LRG_321T5E4A',\n",
       "  'LRG_321T8E2B',\n",
       "  'LRG_321T8E3'],\n",
       " 'seq_region_name': ['2',\n",
       "  '2',\n",
       "  '2',\n",
       "  '2',\n",
       "  '2',\n",
       "  '2',\n",
       "  '2',\n",
       "  '2',\n",
       "  '2',\n",
       "  '2',\n",
       "  '2',\n",
       "  '2',\n",
       "  '2',\n",
       "  '2',\n",
       "  '2',\n",
       "  '17',\n",
       "  '17',\n",
       "  '17',\n",
       "  '17',\n",
       "  '17',\n",
       "  '17',\n",
       "  '17',\n",
       "  '17',\n",
       "  '17',\n",
       "  '17',\n",
       "  '17',\n",
       "  '17',\n",
       "  '17',\n",
       "  '17',\n",
       "  '17',\n",
       "  '17',\n",
       "  '17',\n",
       "  '17',\n",
       "  '17',\n",
       "  '17',\n",
       "  '17',\n",
       "  '17',\n",
       "  '17',\n",
       "  '17',\n",
       "  '17',\n",
       "  '17',\n",
       "  '17',\n",
       "  '17',\n",
       "  '17',\n",
       "  '17',\n",
       "  '17',\n",
       "  '17',\n",
       "  '17',\n",
       "  '17',\n",
       "  '17',\n",
       "  '17',\n",
       "  '17',\n",
       "  '17',\n",
       "  '17',\n",
       "  '17',\n",
       "  '17',\n",
       "  '17',\n",
       "  '17',\n",
       "  '17',\n",
       "  '17',\n",
       "  '17',\n",
       "  '17',\n",
       "  '17',\n",
       "  '17',\n",
       "  '17',\n",
       "  '17',\n",
       "  '17',\n",
       "  '17',\n",
       "  'LRG_321',\n",
       "  'LRG_321',\n",
       "  'LRG_321',\n",
       "  'LRG_321',\n",
       "  'LRG_321',\n",
       "  'LRG_321',\n",
       "  'LRG_321',\n",
       "  'LRG_321',\n",
       "  'LRG_321',\n",
       "  'LRG_321',\n",
       "  'LRG_321',\n",
       "  'LRG_321',\n",
       "  'LRG_321',\n",
       "  'LRG_321',\n",
       "  'LRG_321',\n",
       "  'LRG_321',\n",
       "  'LRG_321',\n",
       "  'LRG_321',\n",
       "  'LRG_321']}"
      ]
     },
     "execution_count": 4,
     "metadata": {},
     "output_type": "execute_result"
    }
   ],
   "source": [
    "# Map gene names to exon identifiers and retrieve the region\n",
    "bb.mapping('ATP5MC3,TP53','map(transcript).map(exon)',attrs = \"seq_region_name\")"
   ]
  },
  {
   "cell_type": "code",
   "execution_count": 25,
   "metadata": {},
   "outputs": [
    {
     "ename": "TypeError",
     "evalue": "cannot unpack non-iterable MapFilter object",
     "output_type": "error",
     "traceback": [
      "\u001b[0;31m---------------------------------------------------------------------------\u001b[0m",
      "\u001b[0;31mTypeError\u001b[0m                                 Traceback (most recent call last)",
      "\u001b[0;32m<ipython-input-25-a45b3b92da62>\u001b[0m in \u001b[0;36m<module>\u001b[0;34m\u001b[0m\n\u001b[1;32m      1\u001b[0m \u001b[0;31m# Map gene to its ortholog identifiers\u001b[0m\u001b[0;34m\u001b[0m\u001b[0;34m\u001b[0m\u001b[0;34m\u001b[0m\u001b[0m\n\u001b[0;32m----> 2\u001b[0;31m \u001b[0mres\u001b[0m\u001b[0;34m=\u001b[0m\u001b[0mbb\u001b[0m\u001b[0;34m.\u001b[0m\u001b[0mmapping\u001b[0m\u001b[0;34m(\u001b[0m\u001b[0;34m'shh'\u001b[0m\u001b[0;34m,\u001b[0m\u001b[0;34m'map(ortholog)'\u001b[0m\u001b[0;34m)\u001b[0m\u001b[0;34m\u001b[0m\u001b[0;34m\u001b[0m\u001b[0m\n\u001b[0m",
      "\u001b[0;32m~/Desktop/projects/biobtreePy/bbpy/bbpy.py\u001b[0m in \u001b[0;36mmapping\u001b[0;34m(self, terms, mappingq, source, page, lite, limit, inattrs, attrs, showInputColumn)\u001b[0m\n\u001b[1;32m    430\u001b[0m                 \u001b[0mnewres\u001b[0m \u001b[0;34m=\u001b[0m \u001b[0mself\u001b[0m\u001b[0;34m.\u001b[0m\u001b[0mstub\u001b[0m\u001b[0;34m.\u001b[0m\u001b[0mMapping\u001b[0m\u001b[0;34m(\u001b[0m\u001b[0mreq\u001b[0m\u001b[0;34m)\u001b[0m\u001b[0;34m\u001b[0m\u001b[0;34m\u001b[0m\u001b[0m\n\u001b[1;32m    431\u001b[0m \u001b[0;34m\u001b[0m\u001b[0m\n\u001b[0;32m--> 432\u001b[0;31m                 \u001b[0;32mfor\u001b[0m \u001b[0mi\u001b[0m\u001b[0;34m,\u001b[0m \u001b[0mrnew\u001b[0m \u001b[0;32min\u001b[0m \u001b[0mnewres\u001b[0m\u001b[0;34m.\u001b[0m\u001b[0mresults\u001b[0m\u001b[0;34m.\u001b[0m\u001b[0mresults\u001b[0m\u001b[0;34m:\u001b[0m\u001b[0;34m\u001b[0m\u001b[0;34m\u001b[0m\u001b[0m\n\u001b[0m\u001b[1;32m    433\u001b[0m                     \u001b[0;32mfor\u001b[0m \u001b[0mj\u001b[0m\u001b[0;34m,\u001b[0m \u001b[0mr\u001b[0m \u001b[0;32min\u001b[0m \u001b[0mresults\u001b[0m\u001b[0;34m:\u001b[0m\u001b[0;34m\u001b[0m\u001b[0;34m\u001b[0m\u001b[0m\n\u001b[1;32m    434\u001b[0m                         \u001b[0;32mif\u001b[0m \u001b[0mrnew\u001b[0m\u001b[0;34m.\u001b[0m\u001b[0msource\u001b[0m\u001b[0;34m.\u001b[0m\u001b[0mdataset\u001b[0m \u001b[0;34m==\u001b[0m \u001b[0mr\u001b[0m\u001b[0;34m.\u001b[0m\u001b[0msource\u001b[0m\u001b[0;34m.\u001b[0m\u001b[0mdataset\u001b[0m \u001b[0;32mand\u001b[0m \u001b[0mrnew\u001b[0m\u001b[0;34m.\u001b[0m\u001b[0msource\u001b[0m\u001b[0;34m.\u001b[0m\u001b[0midentifier\u001b[0m \u001b[0;34m==\u001b[0m \u001b[0mr\u001b[0m\u001b[0;34m.\u001b[0m\u001b[0msource\u001b[0m\u001b[0;34m.\u001b[0m\u001b[0midentifier\u001b[0m\u001b[0;34m:\u001b[0m\u001b[0;34m\u001b[0m\u001b[0;34m\u001b[0m\u001b[0m\n",
      "\u001b[0;31mTypeError\u001b[0m: cannot unpack non-iterable MapFilter object"
     ]
    }
   ],
   "source": [
    "# Map gene to its ortholog identifiers\n",
    "res=bb.mapping('shh','map(ortholog)')"
   ]
  },
  {
   "cell_type": "code",
   "execution_count": null,
   "metadata": {},
   "outputs": [],
   "source": [
    "# Map gene to its paralog\n",
    "res=bb.mapping('fry','map(paralog)')"
   ]
  },
  {
   "cell_type": "code",
   "execution_count": null,
   "metadata": {},
   "outputs": [],
   "source": [
    "# Map ensembl identifier or gene name to the entrez identifier\n",
    "res=bb.mapping('ENSG00000073910,shh' ,'map(entrez)')"
   ]
  },
  {
   "cell_type": "code",
   "execution_count": null,
   "metadata": {},
   "outputs": [],
   "source": [
    "# Map refseq identifiers to hgnc identifiers\n",
    "res=bb.mapping('NM_005359,NM_000546','map(hgnc)',attrs = 'symbols')"
   ]
  },
  {
   "cell_type": "code",
   "execution_count": null,
   "metadata": {},
   "outputs": [],
   "source": [
    "# Get all Ensembl human identifiers and gene names on chromosome Y with lncRNA type\n",
    "res=bb.mapping('homo_sapiens','map(ensembl).filter(ensembl.seq_region_name==\"Y\" && ensembl.biotype==\"lncRNA\")',attrs = 'name')"
   ]
  },
  {
   "cell_type": "code",
   "execution_count": null,
   "metadata": {},
   "outputs": [],
   "source": [
    "''' \n",
    "Get all Ensembl human identifiers and gene names within or overlapping range [114129278-114129328]\n",
    "In this example as a first parameter taxonomy identifier is used instead of specifying as homo sapiens like in the previous example. \n",
    "Both of these usage are equivalent and produce same output as homo sapiens refer to taxonomy identifer 9606.\n",
    "'''\n",
    "res=bb.mapping('9606','map(ensembl).filter((114129278>ensembl.start && 114129278<ensembl.end) || (114129328>ensembl.start && 114129328<ensembl.end))',attrs = 'name')"
   ]
  },
  {
   "cell_type": "code",
   "execution_count": null,
   "metadata": {},
   "outputs": [],
   "source": [
    "# Map Affymetrix identifiers to Ensembl identifiers and gene names\n",
    "res=bb.mapping(\"202763_at,213596_at,209310_s_at\",source =\"affy_hg_u133_plus_2\" ,'map(transcript).map(ensembl)',attrs = \"name\")"
   ]
  },
  {
   "cell_type": "markdown",
   "metadata": {},
   "source": [
    "Note that all mappings can be done with opposite way, for instance from gene name to Affymetrix identifiers mapping is performed following way"
   ]
  },
  {
   "cell_type": "code",
   "execution_count": null,
   "metadata": {},
   "outputs": [],
   "source": [
    "res=bb.mapping(\"CASP3,CASP4\",'map(transcript).map(affy_hg_u133_plus_2)')"
   ]
  },
  {
   "cell_type": "code",
   "execution_count": null,
   "metadata": {},
   "outputs": [],
   "source": [
    "# Retrieve all the human gene names which contains TTY\n",
    "res=bb.mapping(\"homo sapiens\",'map(ensembl).filter(ensembl.name.contains(\"TTY\"))',attrs = \"name\")"
   ]
  },
  {
   "cell_type": "markdown",
   "metadata": {},
   "source": [
    "### Protein centric use cases\n",
    "Uniprot is used for protein related dataset such as protein identifiers, accession, sequence, features, variants, and mapping information to other datasets. Let's list some protein related datasets attributes and then execute example queries similary with gene centric examples,"
   ]
  },
  {
   "cell_type": "code",
   "execution_count": null,
   "metadata": {},
   "outputs": [],
   "source": [
    "bb.listAttrs('uniprot')"
   ]
  },
  {
   "cell_type": "code",
   "execution_count": null,
   "metadata": {},
   "outputs": [],
   "source": [
    "bb.listAttrs('ufeature')"
   ]
  },
  {
   "cell_type": "code",
   "execution_count": null,
   "metadata": {},
   "outputs": [],
   "source": [
    "bb.listAttrs('pdb')"
   ]
  },
  {
   "cell_type": "code",
   "execution_count": null,
   "metadata": {},
   "outputs": [],
   "source": [
    "bb.listAttrs('interpro')"
   ]
  },
  {
   "cell_type": "code",
   "execution_count": null,
   "metadata": {},
   "outputs": [],
   "source": [
    "# Map gene names to reviewed uniprot identifiers\n",
    "res=bb.mapping(\"msh6,stk11,bmpr1a,smad4,brca2\",\"map(uniprot)\",source =\"hgnc\")"
   ]
  },
  {
   "cell_type": "code",
   "execution_count": null,
   "metadata": {},
   "outputs": [],
   "source": [
    "# Filter proteins by sequence mass and retrieve protein sequences\n",
    "res=bb.mapping(\"clock_human,shh_human,p53_human\",\"filter(uniprot.sequence.mass > 45000)\" ,attrs = \"sequence$mass,sequence$seq\")"
   ]
  },
  {
   "cell_type": "code",
   "execution_count": null,
   "metadata": {},
   "outputs": [],
   "source": [
    "# Helix type feature locations of a protein\n",
    "res=bb.mapping(\"shh_human\",'map(ufeature).filter(ufeature.type==\"helix\")' ,attrs = \"location$begin,location$end\")"
   ]
  },
  {
   "cell_type": "code",
   "execution_count": null,
   "metadata": {},
   "outputs": [],
   "source": [
    "# Get all variation identifiers from a gene with given condition\n",
    "res=bb.mapping(\"tp53\",'map(uniprot).map(ufeature).filter(ufeature.original==\"I\" && ufeature.variation==\"S\").map(variantid)',source = \"hgnc\")"
   ]
  }
 ],
 "metadata": {
  "kernelspec": {
   "display_name": "Python 3",
   "language": "python",
   "name": "python3"
  },
  "language_info": {
   "codemirror_mode": {
    "name": "ipython",
    "version": 3
   },
   "file_extension": ".py",
   "mimetype": "text/x-python",
   "name": "python",
   "nbconvert_exporter": "python",
   "pygments_lexer": "ipython3",
   "version": "3.7.4"
  }
 },
 "nbformat": 4,
 "nbformat_minor": 2
}
